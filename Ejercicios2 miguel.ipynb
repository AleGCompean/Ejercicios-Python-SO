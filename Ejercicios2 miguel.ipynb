{
 "cells": [
  {
   "cell_type": "markdown",
   "metadata": {},
   "source": [
    "### Crea una varible que contenga datos por cada uno de los tipos de estructura de datos lista, tupla, conjunto y diccionario"
   ]
  },
  {
   "cell_type": "code",
   "execution_count": 20,
   "metadata": {},
   "outputs": [],
   "source": [
    "lista=[1,2,3,4,5]\n",
    "tupla=(1,2,3,4,5)\n",
    "conjun= {1,2,3,4,5}\n",
    "diccionario = {\"nombre\": \"miguel\",\"edad\": 29, \"ciudad\": \"queretaro\"}\n"
   ]
  },
  {
   "cell_type": "markdown",
   "metadata": {},
   "source": [
    "### Utilizando las estructuras anteriores muestra el primer y ultimo elemento de una lista por pantalla (utiliza print) del tipo de dato lista"
   ]
  },
  {
   "cell_type": "code",
   "execution_count": 11,
   "metadata": {},
   "outputs": [
    {
     "name": "stdout",
     "output_type": "stream",
     "text": [
      "poner primer elemento 1\n",
      "poner ultimo elemento 5\n"
     ]
    }
   ],
   "source": [
    "\n",
    "\n",
    "print(\"poner primer elemento\" , lista [0])\n",
    "print(\"poner ultimo elemento\" , lista [-1])"
   ]
  },
  {
   "cell_type": "markdown",
   "metadata": {},
   "source": [
    "### Los diccionarios utilizan una relacion clave valor, del diccionario que creaste anteriormente muestra todos sus valores uno por uno utilizando print"
   ]
  },
  {
   "cell_type": "code",
   "execution_count": 21,
   "metadata": {},
   "outputs": [
    {
     "name": "stdout",
     "output_type": "stream",
     "text": [
      "nombre solicitado miguel\n",
      "muestra la edad 29\n",
      "lugar queretaro\n"
     ]
    }
   ],
   "source": [
    "print(\"nombre solicitado\" , diccionario [\"nombre\"])\n",
    "print(\"muestra la edad\" ,diccionario [\"edad\"])\n",
    "print(\"lugar\" , diccionario[\"ciudad\"])\n"
   ]
  },
  {
   "cell_type": "markdown",
   "metadata": {},
   "source": [
    "### Esta tarea requiere investigacion, en la lista que creaste anteriormente, utiliza un metodo (parecido a funcion) que añada a tu lista \"SpeakOn was here\"\n",
    "### Esto se hace con codigo python y no puedes agregar codigo a la lista que creaste arriba"
   ]
  },
  {
   "cell_type": "code",
   "execution_count": null,
   "metadata": {},
   "outputs": [],
   "source": []
  }
 ],
 "metadata": {
  "kernelspec": {
   "display_name": "Python 3",
   "language": "python",
   "name": "python3"
  },
  "language_info": {
   "codemirror_mode": {
    "name": "ipython",
    "version": 3
   },
   "file_extension": ".py",
   "mimetype": "text/x-python",
   "name": "python",
   "nbconvert_exporter": "python",
   "pygments_lexer": "ipython3",
   "version": "3.13.2"
  }
 },
 "nbformat": 4,
 "nbformat_minor": 2
}
