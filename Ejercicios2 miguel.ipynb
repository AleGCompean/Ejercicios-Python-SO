{
 "cells": [
  {
   "cell_type": "markdown",
   "metadata": {},
   "source": [
    "### Crea una varible que contenga datos por cada uno de los tipos de estructura de datos lista, tupla, conjunto y diccionario"
   ]
  },
  {
   "cell_type": "code",
   "execution_count": 5,
   "metadata": {},
   "outputs": [
    {
     "ename": "IndentationError",
     "evalue": "unexpected indent (2874517581.py, line 2)",
     "output_type": "error",
     "traceback": [
      "\u001b[1;36m  Cell \u001b[1;32mIn[5], line 2\u001b[1;36m\u001b[0m\n\u001b[1;33m    \"tupla\"=(1,2,3,4,5)\u001b[0m\n\u001b[1;37m    ^\u001b[0m\n\u001b[1;31mIndentationError\u001b[0m\u001b[1;31m:\u001b[0m unexpected indent\n"
     ]
    }
   ],
   "source": [
    "\"listas\"[1,2,3,4,5]\n",
    " \"tupla\"=(1,2,3,4,5)\n",
    " \"conjunto\"= {1,2,3,4,5}\n",
    "\"diccionario\" = {\"nombre\": \"miguel\",\"edad\": 29, \"ciudad\": \"queretaro\"}\n"
   ]
  },
  {
   "cell_type": "markdown",
   "metadata": {},
   "source": [
    "### Utilizando las estructuras anteriores muestra el primer y ultimo elemento de una lista por pantalla (utiliza print) del tipo de dato lista"
   ]
  },
  {
   "cell_type": "code",
   "execution_count": null,
   "metadata": {},
   "outputs": [],
   "source": [
    "# Lista: una colección ordenada y mutable de elementos\n",
    "mi_lista = [1, 2, 3, 4, 5]\n",
    "\n",
    "# Tupla: una colección ordenada e inmutable de elementos\n",
    "mi_tupla = (10, 20, 30, 40, 50)\n",
    "\n",
    "# Conjunto (set): una colección desordenada y sin elementos duplicados\n",
    "mi_conjunto = {100, 200, 300, 400, 500}\n",
    "\n",
    "# Diccionario: una colección de pares clave-valor\n",
    "mi_diccionario = {\n",
    "\"nombre\": \"miguel\",\"edad\": 29,\"ciudad\": \"queretaro\"}\n"
   ]
  },
  {
   "cell_type": "markdown",
   "metadata": {},
   "source": [
    "### Los diccionarios utilizan una relacion clave valor, del diccionario que creaste anteriormente muestra todos sus valores uno por uno utilizando print"
   ]
  },
  {
   "cell_type": "code",
   "execution_count": null,
   "metadata": {},
   "outputs": [],
   "source": []
  },
  {
   "cell_type": "markdown",
   "metadata": {},
   "source": [
    "### Esta tarea requiere investigacion, en la lista que creaste anteriormente, utiliza un metodo (parecido a funcion) que añada a tu lista \"SpeakOn was here\"\n",
    "### Esto se hace con codigo python y no puedes agregar codigo a la lista que creaste arriba"
   ]
  },
  {
   "cell_type": "code",
   "execution_count": null,
   "metadata": {},
   "outputs": [],
   "source": []
  }
 ],
 "metadata": {
  "kernelspec": {
   "display_name": "Python 3",
   "language": "python",
   "name": "python3"
  },
  "language_info": {
   "codemirror_mode": {
    "name": "ipython",
    "version": 3
   },
   "file_extension": ".py",
   "mimetype": "text/x-python",
   "name": "python",
   "nbconvert_exporter": "python",
   "pygments_lexer": "ipython3",
   "version": "3.13.2"
  }
 },
 "nbformat": 4,
 "nbformat_minor": 2
}
