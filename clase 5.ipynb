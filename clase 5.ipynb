{
 "cells": [
  {
   "cell_type": "code",
   "execution_count": 4,
   "id": "6a349fbf",
   "metadata": {},
   "outputs": [
    {
     "name": "stdout",
     "output_type": "stream",
     "text": [
      "ejecuta esto\n"
     ]
    }
   ],
   "source": [
    "#Bucle while\n",
    "ejecutar= True\n",
    "while ejecutar == True:\n",
    "    print(\"ejecuta esto\")\n",
    "    ejecutar= False"
   ]
  },
  {
   "cell_type": "code",
   "execution_count": null,
   "id": "3628fdcc",
   "metadata": {},
   "outputs": [],
   "source": [
    "#Bucle while, se ejecuta de forma infinita porque nunca cambio el valor de ejecutar\n",
    "ejecutar= True\n",
    "while ejecutar == True:\n",
    "    print(\"ejecuta esto\")"
   ]
  },
  {
   "cell_type": "code",
   "execution_count": null,
   "id": "45fc210c",
   "metadata": {},
   "outputs": [
    {
     "name": "stdout",
     "output_type": "stream",
     "text": [
      "Esto se ejecuto 1 vez(veces)\n",
      "Esto se ejecuto 1 vez(veces)\n",
      "Esto se ejecuto 1 vez(veces)\n",
      "Esto se ejecuto 1 vez(veces)\n",
      "Esto se ejecuto 1 vez(veces)\n",
      "Esto se ejecuto 1 vez(veces)\n",
      "Esto se ejecuto 1 vez(veces)\n",
      "Esto se ejecuto 1 vez(veces)\n",
      "Esto se ejecuto 1 vez(veces)\n",
      "Control es igual a 10\n"
     ]
    }
   ],
   "source": [
    "#Utilizaremos una estructura de control numerica para ejecutar 3 veces\n",
    "control= 1\n",
    "numero= 1\n",
    "\n",
    "while numero <= 3:\n",
    "    print(\"Esto se ejecuto {} vez(veces)\".format(numero))\n",
    "    numero=1\n",
    "\n",
    "    #Estructura de control\n",
    "    control+=1\n",
    "    if control >= 10:\n",
    "        break\n",
    "\n",
    "print(\"Control es igual a {}\".format(control))"
   ]
  },
  {
   "cell_type": "code",
   "execution_count": 19,
   "id": "a487e96e",
   "metadata": {},
   "outputs": [
    {
     "name": "stdout",
     "output_type": "stream",
     "text": [
      "kiwi  -  <class 'str'>\n",
      "manzana  -  <class 'str'>\n",
      "mango  -  <class 'str'>\n"
     ]
    }
   ],
   "source": [
    "#Bucle for\n",
    "iterable= [\"kiwi\", \"manzana\", \"mango\"] #0,1,2\n",
    "\n",
    "#Funcionamiento de for\n",
    "for elemento in iterable:\n",
    "    print(elemento, \" - \", type(elemento))"
   ]
  }
 ],
 "metadata": {
  "kernelspec": {
   "display_name": "Python 3",
   "language": "python",
   "name": "python3"
  },
  "language_info": {
   "codemirror_mode": {
    "name": "ipython",
    "version": 3
   },
   "file_extension": ".py",
   "mimetype": "text/x-python",
   "name": "python",
   "nbconvert_exporter": "python",
   "pygments_lexer": "ipython3",
   "version": "3.12.4"
  }
 },
 "nbformat": 4,
 "nbformat_minor": 5
}
