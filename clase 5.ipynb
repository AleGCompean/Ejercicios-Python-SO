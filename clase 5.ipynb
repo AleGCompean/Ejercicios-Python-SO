{
 "cells": [
  {
   "cell_type": "code",
   "execution_count": 3,
   "id": "6a349fbf",
   "metadata": {},
   "outputs": [
    {
     "name": "stdout",
     "output_type": "stream",
     "text": [
      "ejecuta esto\n"
     ]
    }
   ],
   "source": [
    "#Bucle while\n",
    "ejecutar= True\n",
    "while ejecutar == True:\n",
    "    print(\"ejecuta esto\")\n",
    "    ejecutar= False"
   ]
  },
  {
   "cell_type": "code",
   "execution_count": null,
   "id": "3628fdcc",
   "metadata": {},
   "outputs": [],
   "source": [
    "#Bucle while, se ejecuta de forma infinita porque nunca cambio el valor de ejecutar\n",
    "ejecutar= True\n",
    "while ejecutar == True:\n",
    "    print(\"ejecuta esto\")"
   ]
  },
  {
   "cell_type": "code",
   "execution_count": null,
   "id": "45fc210c",
   "metadata": {},
   "outputs": [
    {
     "name": "stdout",
     "output_type": "stream",
     "text": [
      "Esto se ejecuto 1 vez(veces)\n",
      "Esto se ejecuto 1 vez(veces)\n",
      "Esto se ejecuto 1 vez(veces)\n",
      "Esto se ejecuto 1 vez(veces)\n",
      "Esto se ejecuto 1 vez(veces)\n",
      "Esto se ejecuto 1 vez(veces)\n",
      "Esto se ejecuto 1 vez(veces)\n",
      "Esto se ejecuto 1 vez(veces)\n",
      "Esto se ejecuto 1 vez(veces)\n",
      "Control es igual a 10\n"
     ]
    }
   ],
   "source": [
    "#Utilizaremos una estructura de control numerica para ejecutar 3 veces\n",
    "control= 1\n",
    "numero= 1\n",
    "\n",
    "while numero <= 3:\n",
    "    print(\"Esto se ejecuto {} vez(veces)\".format(numero))\n",
    "    numero=1\n",
    "\n",
    "    #Estructura de control\n",
    "    control+=1\n",
    "    if control >= 10:\n",
    "        break\n",
    "\n",
    "print(\"Control es igual a {}\".format(control))"
   ]
  },
  {
   "cell_type": "code",
   "execution_count": 22,
   "id": "a487e96e",
   "metadata": {},
   "outputs": [
    {
     "name": "stdout",
     "output_type": "stream",
     "text": [
      "kiwi  -  <class 'str'>\n",
      "manzana  -  <class 'str'>\n",
      "4  -  <class 'int'>\n",
      "mango  -  <class 'str'>\n"
     ]
    }
   ],
   "source": [
    "#Bucle for\n",
    "iterable= [\"kiwi\", \"manzana\", 4, \"mango\"] #0,1,2\n",
    "\n",
    "#Funcionamiento de for\n",
    "for elemento in iterable:\n",
    "    print(elemento, \" - \", type(elemento))"
   ]
  },
  {
   "cell_type": "code",
   "execution_count": 24,
   "id": "cdd2f64c",
   "metadata": {},
   "outputs": [
    {
     "name": "stdout",
     "output_type": "stream",
     "text": [
      "kiwi\n",
      "manzana\n",
      "mango\n"
     ]
    }
   ],
   "source": [
    "#Bucle for\n",
    "frutas= [\"kiwi\", \"manzana\", \"mango\"] #0,1,2\n",
    "\n",
    "#Funcionamiento de for\n",
    "for fruta in frutas:\n",
    "    print(fruta)"
   ]
  },
  {
   "cell_type": "code",
   "execution_count": null,
   "id": "369c810d",
   "metadata": {},
   "outputs": [],
   "source": [
    "fruta= frutas[0] = \"kiwi\"\n",
    "fruta= frutas[1] = \"manzana\"\n",
    "fruta= frutas[2] = 4\n",
    "fruta= frutas[3] = \"mango\""
   ]
  },
  {
   "cell_type": "code",
   "execution_count": null,
   "id": "0cfa4a5b",
   "metadata": {},
   "outputs": [
    {
     "name": "stdout",
     "output_type": "stream",
     "text": [
      "kiwi\n",
      "manzana\n",
      "mango\n"
     ]
    }
   ],
   "source": [
    "#Bucle for\n",
    "frutas= [\"kiwi\", \"manzana\", 4, \"mango\"] #0,1,2\n",
    "\n",
    "#Funcionamiento de for\n",
    "for fruta in frutas:\n",
    "    if type(fruta) == str:\n",
    "        print(fruta)\n",
    "    else:\n",
    "        print(\"Existe en la lista un elemento que no es fruta: {}\".format(fruta))"
   ]
  },
  {
   "cell_type": "code",
   "execution_count": 13,
   "id": "36cd7005",
   "metadata": {},
   "outputs": [
    {
     "name": "stdout",
     "output_type": "stream",
     "text": [
      "kiwi\n",
      "manzana\n",
      "Error: 4\n",
      "Aqui continua el codigo\n"
     ]
    }
   ],
   "source": [
    "#Bucle for\n",
    "frutas= [\"kiwi\", \"manzana\", 4, \"mango\", \"piña\", \"sandia\"] #0,1,2\n",
    "\n",
    "#Funcionamiento de for\n",
    "for fruta in frutas:\n",
    "    if type(fruta) == str:\n",
    "        print(fruta)\n",
    "    else:\n",
    "        print(\"Error:\", fruta)\n",
    "        break\n",
    "\n",
    "print(\"Aqui continua el codigo\")"
   ]
  },
  {
   "cell_type": "code",
   "execution_count": 17,
   "id": "9d316b06",
   "metadata": {},
   "outputs": [
    {
     "name": "stdout",
     "output_type": "stream",
     "text": [
      "kiwi\n",
      "manzana\n",
      "Error: 4\n",
      "mango\n",
      "piña\n",
      "sandia\n",
      "Aqui continua el codigo\n"
     ]
    }
   ],
   "source": [
    "#Bucle for\n",
    "frutas= [\"kiwi\", \"manzana\", 4, \"mango\", \"piña\", \"sandia\"] #0,1,2\n",
    "\n",
    "#Funcionamiento de for\n",
    "for fruta in frutas:\n",
    "    if type(fruta) == str:\n",
    "        print(fruta)\n",
    "    else:\n",
    "        print(\"Error:\", fruta)\n",
    "        continue\n",
    "\n",
    "print(\"Aqui continua el codigo\")"
   ]
  }
 ],
 "metadata": {
  "kernelspec": {
   "display_name": "Python 3",
   "language": "python",
   "name": "python3"
  },
  "language_info": {
   "codemirror_mode": {
    "name": "ipython",
    "version": 3
   },
   "file_extension": ".py",
   "mimetype": "text/x-python",
   "name": "python",
   "nbconvert_exporter": "python",
   "pygments_lexer": "ipython3",
   "version": "3.12.4"
  }
 },
 "nbformat": 4,
 "nbformat_minor": 5
}
