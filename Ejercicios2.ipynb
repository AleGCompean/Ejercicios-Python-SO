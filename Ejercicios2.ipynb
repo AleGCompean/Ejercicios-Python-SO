{
 "cells": [
  {
   "cell_type": "markdown",
   "metadata": {},
   "source": [
    "### Crea una varible que contenga datos por cada uno de los tipos de estructura de datos lista, tupla, conjunto y diccionario"
   ]
  },
  {
   "cell_type": "code",
   "execution_count": null,
   "metadata": {},
   "outputs": [],
   "source": []
  },
  {
   "cell_type": "markdown",
   "metadata": {},
   "source": [
    "### Utilizando las estructuras anteriores muestra el primer y ultimo elemento de una lista por pantalla (utiliza print) del tipo de dato lista"
   ]
  },
  {
   "cell_type": "code",
   "execution_count": null,
   "metadata": {},
   "outputs": [],
   "source": []
  },
  {
   "cell_type": "markdown",
   "metadata": {},
   "source": [
    "### Los diccionarios utilizan una relacion clave valor, del diccionario que creaste anteriormente muestra todos sus valores uno por uno utilizando print"
   ]
  },
  {
   "cell_type": "code",
   "execution_count": null,
   "metadata": {},
   "outputs": [],
   "source": []
  },
  {
   "cell_type": "markdown",
   "metadata": {},
   "source": [
    "### Esta tarea requiere investigacion, en la lista que creaste anteriormente, utiliza un metodo (parecido a funcion) que añada a tu lista \"SpeakOn was here\"\n",
    "### Esto se hace con codigo python y no puedes agregar codigo a la lista que creaste arriba"
   ]
  },
  {
   "cell_type": "code",
   "execution_count": null,
   "metadata": {},
   "outputs": [],
   "source": []
  }
 ],
 "metadata": {
  "language_info": {
   "name": "python"
  }
 },
 "nbformat": 4,
 "nbformat_minor": 2
}
