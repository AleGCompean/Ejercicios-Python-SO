{
 "cells": [
  {
   "cell_type": "code",
   "execution_count": 19,
   "metadata": {},
   "outputs": [
    {
     "name": "stdout",
     "output_type": "stream",
     "text": [
      "<class 'int'>\n",
      "<class 'float'>\n",
      "<class 'str'>\n",
      "<class 'bool'>\n"
     ]
    }
   ],
   "source": [
    "#Escribe una variable con cada uno de los tipos de datos en python\n",
    "int\n",
    "edad = 29\n",
    "float\n",
    "altura = 1.65\n",
    "str \n",
    "nombre = \"Miguel_Angel_Sanchez_Alanis\"\n",
    "\n",
    "bool\n",
    "a = True\n",
    "b = False\n",
    "\n",
    "print(type (edad))\n",
    "print(type(altura))\n",
    "print(type(nombre))\n",
    "print(type(a))"
   ]
  },
  {
   "cell_type": "code",
   "execution_count": 1,
   "metadata": {},
   "outputs": [
    {
     "name": "stdout",
     "output_type": "stream",
     "text": [
      "La suma es: 258\n"
     ]
    }
   ],
   "source": [
    "#Escribe una variable en python que contenga un numero, otra que incluya un numero en tipo texto y espues por medio de conversion sumalos y muestralos en pantalla (print)\n",
    "# Variable con número entero\n",
    "numero = 255\n",
    "\n",
    "# Variable con número en forma de texto\n",
    "numero_texto = \"3\"\n",
    "\n",
    "# Convertimos el texto a entero y los sumamos\n",
    "suma = numero + int(numero_texto)\n",
    "\n",
    "# Mostramos el resultado\n",
    "print(\"La suma es:\", suma)\n"
   ]
  },
  {
   "cell_type": "code",
   "execution_count": 6,
   "metadata": {},
   "outputs": [
    {
     "name": "stdout",
     "output_type": "stream",
     "text": [
      "suma 681\n",
      "resta 675\n",
      "multiplicacion 2034\n",
      "division 226.0\n",
      "division_entera 226\n",
      "modulo 0\n",
      "exponente 311665752\n"
     ]
    }
   ],
   "source": [
    "#Genera dos variables numericas y opera entre ellas con los diferentes operadores numericos, suma, resta, multiplicacion, division, producto\n",
    "a = 678\n",
    "b = 3\n",
    "\n",
    "suma = a + b \n",
    "print(\"suma\" , suma)\n",
    "\n",
    "resta = a-b\n",
    "print(\"resta\" , resta)\n",
    "\n",
    "multiplicacion = a * b\n",
    "print(\"multiplicacion\" , multiplicacion)\n",
    "\n",
    "division =a / b\n",
    "print(\"division\" , division)\n",
    "\n",
    "division_entera =a // b\n",
    "print(\"division_entera\" , division_entera)\n",
    "\n",
    "modulo = a % b\n",
    "print(\"modulo\" , modulo)\n",
    "\n",
    "exponente = a ** b\n",
    "print(\"exponente\" , exponente)\n",
    "\n",
    "\n",
    "\n",
    "\n"
   ]
  }
 ],
 "metadata": {
  "kernelspec": {
   "display_name": "Python 3",
   "language": "python",
   "name": "python3"
  },
  "language_info": {
   "codemirror_mode": {
    "name": "ipython",
    "version": 3
   },
   "file_extension": ".py",
   "mimetype": "text/x-python",
   "name": "python",
   "nbconvert_exporter": "python",
   "pygments_lexer": "ipython3",
   "version": "3.13.2"
  }
 },
 "nbformat": 4,
 "nbformat_minor": 2
}
