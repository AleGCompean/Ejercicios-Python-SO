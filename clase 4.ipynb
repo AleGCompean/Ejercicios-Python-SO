{
 "cells": [
  {
   "cell_type": "code",
   "execution_count": null,
   "id": "4c093334",
   "metadata": {},
   "outputs": [
    {
     "name": "stdout",
     "output_type": "stream",
     "text": [
      "Ejecuta if\n"
     ]
    }
   ],
   "source": [
    "#Estructura condicional if, elif, else\n",
    "if False:\n",
    "    print(\"Ejecuta if\")\n",
    "elif False:\n",
    "    print(\"Ejecuta elif\")\n",
    "else:\n",
    "    print(\"Ejecuta else\")"
   ]
  },
  {
   "cell_type": "code",
   "execution_count": null,
   "id": "edc44889",
   "metadata": {},
   "outputs": [
    {
     "name": "stdout",
     "output_type": "stream",
     "text": [
      "Eres un adulto mayor\n"
     ]
    }
   ],
   "source": [
    "#Ejemplo con edad\n",
    "edad= 65\n",
    "\n",
    "if edad < 0:\n",
    "    print(\"Ingresaste una edad incorrecta\")\n",
    "elif edad < 18:\n",
    "    print(\"Eres menor de edad\")\n",
    "elif edad >= 18 and edad < 65:\n",
    "    print(\"Eres un adulto\")\n",
    "else:\n",
    "    print(\"Eres un adulto mayor\")"
   ]
  },
  {
   "cell_type": "code",
   "execution_count": null,
   "id": "91b7683b",
   "metadata": {},
   "outputs": [
    {
     "name": "stdout",
     "output_type": "stream",
     "text": [
      "False\n"
     ]
    }
   ],
   "source": []
  }
 ],
 "metadata": {
  "kernelspec": {
   "display_name": "Python 3",
   "language": "python",
   "name": "python3"
  },
  "language_info": {
   "codemirror_mode": {
    "name": "ipython",
    "version": 3
   },
   "file_extension": ".py",
   "mimetype": "text/x-python",
   "name": "python",
   "nbconvert_exporter": "python",
   "pygments_lexer": "ipython3",
   "version": "3.12.4"
  }
 },
 "nbformat": 4,
 "nbformat_minor": 5
}
