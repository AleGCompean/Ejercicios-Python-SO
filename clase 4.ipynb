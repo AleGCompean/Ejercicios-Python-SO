{
 "cells": [
  {
   "cell_type": "code",
   "execution_count": null,
   "id": "4c093334",
   "metadata": {},
   "outputs": [
    {
     "name": "stdout",
     "output_type": "stream",
     "text": [
      "Ejecuta if\n"
     ]
    }
   ],
   "source": [
    "#Estructura condicional if, elif, else\n",
    "if False:\n",
    "    print(\"Ejecuta if\")\n",
    "elif False:\n",
    "    print(\"Ejecuta elif\")\n",
    "else:\n",
    "    print(\"Ejecuta else\")"
   ]
  },
  {
   "cell_type": "code",
   "execution_count": 2,
   "id": "edc44889",
   "metadata": {},
   "outputs": [
    {
     "name": "stdout",
     "output_type": "stream",
     "text": [
      "Eres un adulto\n"
     ]
    }
   ],
   "source": [
    "#Ejemplo con edad\n",
    "edad= 33\n",
    "\n",
    "if edad < 0:\n",
    "    print(\"Ingresaste una edad incorrecta\")\n",
    "elif edad < 18:\n",
    "    print(\"Eres menor de edad\")\n",
    "elif edad >= 18 and edad < 65:\n",
    "    print(\"Eres un adulto\")\n",
    "else:\n",
    "    print(\"Eres un adulto mayor\")"
   ]
  },
  {
   "cell_type": "code",
   "execution_count": 8,
   "id": "91b7683b",
   "metadata": {},
   "outputs": [
    {
     "name": "stdout",
     "output_type": "stream",
     "text": [
      "El nombre es muy largo\n",
      "Aqui termina el codigo\n"
     ]
    }
   ],
   "source": [
    "#Podemos utilizar if solo\n",
    "nombre= \"Carlos\"\n",
    "\n",
    "#Quiero saber si el nombre es muy largo\n",
    "if len(nombre) > 5:\n",
    "    print(\"El nombre es muy largo\")\n",
    "\n",
    "print(\"Aqui termina el codigo\")"
   ]
  },
  {
   "cell_type": "code",
   "execution_count": 18,
   "id": "2a1150f1",
   "metadata": {},
   "outputs": [
    {
     "name": "stdout",
     "output_type": "stream",
     "text": [
      "Son suficientes frutas favoritas\n"
     ]
    }
   ],
   "source": [
    "#Podemos utilizar elif SIN else\n",
    "frutas_favoritas= [\"manzana\",\"pera\",\"kiwi\"]\n",
    "\n",
    "#Imprimir un mensaje segun el numero de futas favoritas\n",
    "if len(frutas_favoritas) < 3:\n",
    "    print(\"Tienes muy pocas frutas favorita\")\n",
    "elif len(frutas_favoritas) >=3:\n",
    "    print(\"Son suficientes frutas favoritas\")"
   ]
  },
  {
   "cell_type": "code",
   "execution_count": 21,
   "id": "cb87113d",
   "metadata": {},
   "outputs": [
    {
     "name": "stdout",
     "output_type": "stream",
     "text": [
      "Tienes 17 frutas favoritas\n"
     ]
    }
   ],
   "source": [
    "#Podemos utilizar elif SIN else\n",
    "frutas_favoritas= [\"manzana\",\"pera\",\"kiwi\",\"platano\",\"piña\",\"naranja\",\"melon\",\"papaya\",\"sandia\",\"piñon\",\"fresa\",\"uva\",\"aguacate\",\"mandarina\",\"guayaba\",\"kiwi\",\"cereza\"]\n",
    "\n",
    "#Imprimir un mensaje segun el numero de futas favoritas\n",
    "if len(frutas_favoritas) < 3:\n",
    "    print(\"Tienes muy pocas frutas favorita\")\n",
    "elif len(frutas_favoritas) ==3:\n",
    "    print(\"Tienes 3 frutas favoritas\")\n",
    "elif len(frutas_favoritas) ==4:\n",
    "    print(\"Tienes 4 frutas favoritas\")\n",
    "elif len(frutas_favoritas) ==5:\n",
    "    print(\"Tienes 5 frutas favoritas\")\n",
    "elif len(frutas_favoritas) ==6:\n",
    "    print(\"Tienes 6 frutas favoritas\")\n",
    "elif len(frutas_favoritas) ==7:\n",
    "    print(\"Tienes 7 frutas favoritas\")\n",
    "elif len(frutas_favoritas) > 7:\n",
    "    print(\"Tienes {} frutas favoritas\".format(len(frutas_favoritas)))"
   ]
  },
  {
   "cell_type": "code",
   "execution_count": 26,
   "id": "2011cb7c",
   "metadata": {},
   "outputs": [
    {
     "name": "stdout",
     "output_type": "stream",
     "text": [
      "Tienes 1 frutas favoritas\n"
     ]
    }
   ],
   "source": [
    "#Podemos utilizar elif SIN else\n",
    "frutas_favoritas= [\"kiwi\"]\n",
    "\n",
    "#Imprimir un mensaje segun el numero de futas favoritas\n",
    "if len(frutas_favoritas) < 3 and len(frutas_favoritas) > 1:\n",
    "    print(\"Tienes muy pocas frutas favorita\")\n",
    "elif len(frutas_favoritas) ==3:\n",
    "    print(\"Tienes 3 frutas favoritas\")\n",
    "elif len(frutas_favoritas) ==4:\n",
    "    print(\"Tienes 4 frutas favoritas\")\n",
    "elif len(frutas_favoritas) ==5:\n",
    "    print(\"Tienes 5 frutas favoritas\")\n",
    "elif len(frutas_favoritas) ==6:\n",
    "    print(\"Tienes 6 frutas favoritas\")\n",
    "elif len(frutas_favoritas) ==7:\n",
    "    print(\"Tienes 7 frutas favoritas\")\n",
    "else:\n",
    "    print(\"Tienes {} frutas favoritas\".format(len(frutas_favoritas)))"
   ]
  },
  {
   "cell_type": "code",
   "execution_count": 27,
   "id": "5a1f6dd1",
   "metadata": {},
   "outputs": [
    {
     "ename": "SyntaxError",
     "evalue": "invalid syntax (2933299882.py, line 2)",
     "output_type": "error",
     "traceback": [
      "\u001b[1;36m  Cell \u001b[1;32mIn[27], line 2\u001b[1;36m\u001b[0m\n\u001b[1;33m    elif len(frutas_favoritas) > 0:\u001b[0m\n\u001b[1;37m    ^\u001b[0m\n\u001b[1;31mSyntaxError\u001b[0m\u001b[1;31m:\u001b[0m invalid syntax\n"
     ]
    }
   ],
   "source": [
    "#Esto es un error\n",
    "elif len(frutas_favoritas) > 0:\n",
    "    print(\"algo\")"
   ]
  },
  {
   "cell_type": "code",
   "execution_count": null,
   "id": "96fdd316",
   "metadata": {},
   "outputs": [
    {
     "name": "stdout",
     "output_type": "stream",
     "text": [
      "Reprobado, tu calificacion es: 0\n"
     ]
    }
   ],
   "source": [
    "#se puede omitir elif y solo utilizar if y else\n",
    "calificacion= -500\n",
    "\n",
    "#Igualo la calificaicon a 0 en casos atipicos\n",
    "if calificacion < 0:\n",
    "    calificacion= 0\n",
    "\n",
    "if calificacion >= 6:\n",
    "    print(\"Aprobado, tu calificacion es: {}\".format(calificacion))\n",
    "else:\n",
    "    print(\"Reprobado, tu calificacion es: {}\".format(calificacion))"
   ]
  },
  {
   "cell_type": "code",
   "execution_count": null,
   "id": "646f2944",
   "metadata": {},
   "outputs": [
    {
     "name": "stdout",
     "output_type": "stream",
     "text": [
      "Excelente\n",
      "Sobresaliente\n",
      "Regular\n",
      "Reprobado\n"
     ]
    }
   ],
   "source": [
    "#Ejemplo de uso de varios elif y como NO debe usarse\n",
    "calificacion =10\n",
    "\n",
    "if calificacion == 10:\n",
    "    print(\"Excelente\")\n",
    "if calificacion >= 9:\n",
    "    print(\"Sobresaliente\")\n",
    "if calificacion >= 6:\n",
    "    print(\"Regular\")\n",
    "if calificacion >= 5:\n",
    "    print(\"Reprobado\")"
   ]
  },
  {
   "cell_type": "code",
   "execution_count": null,
   "id": "5a1dbb36",
   "metadata": {},
   "outputs": [],
   "source": []
  }
 ],
 "metadata": {
  "kernelspec": {
   "display_name": "Python 3",
   "language": "python",
   "name": "python3"
  },
  "language_info": {
   "codemirror_mode": {
    "name": "ipython",
    "version": 3
   },
   "file_extension": ".py",
   "mimetype": "text/x-python",
   "name": "python",
   "nbconvert_exporter": "python",
   "pygments_lexer": "ipython3",
   "version": "3.12.4"
  }
 },
 "nbformat": 4,
 "nbformat_minor": 5
}
