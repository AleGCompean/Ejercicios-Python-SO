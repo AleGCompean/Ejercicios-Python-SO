{
 "cells": [
  {
   "cell_type": "markdown",
   "id": "2e7c6284",
   "metadata": {},
   "source": [
    "### Crea una variable numerica y despues imprime por pantalla utilizando el operador de igualdad si ese numero es igual a 10"
   ]
  },
  {
   "cell_type": "code",
   "execution_count": null,
   "id": "708dfce2",
   "metadata": {},
   "outputs": [],
   "source": []
  },
  {
   "cell_type": "markdown",
   "id": "501c1dbc",
   "metadata": {},
   "source": [
    "### Crea una variable con tu nombre y despues utilizando el operador de diferencia revisa si la primera letra de tu nombre corresponde a la letra A"
   ]
  },
  {
   "cell_type": "code",
   "execution_count": null,
   "id": "8bd3198a",
   "metadata": {},
   "outputs": [],
   "source": []
  },
  {
   "cell_type": "markdown",
   "id": "3d6a4960",
   "metadata": {},
   "source": [
    "### ¿Tienes permiso para beber alcohol y tienes menos de 65 años? Crea una variable con tu edad y despues imprime por pantalla el resultado de la evaluacion entre ambas edades"
   ]
  },
  {
   "cell_type": "code",
   "execution_count": null,
   "id": "f5bedbe8",
   "metadata": {},
   "outputs": [],
   "source": []
  },
  {
   "cell_type": "markdown",
   "id": "a03e5b8f",
   "metadata": {},
   "source": [
    "### Investiga el operador IN en python, despues crea una lista con 5 nombres distintos, crea una variable con tu nombre y despues utilizando in, evalua e imprime por pantalla si tu nombre se encuentra dentro de esa lista"
   ]
  },
  {
   "cell_type": "code",
   "execution_count": null,
   "id": "b2acc324",
   "metadata": {},
   "outputs": [],
   "source": []
  }
 ],
 "metadata": {
  "kernelspec": {
   "display_name": "Python 3",
   "language": "python",
   "name": "python3"
  },
  "language_info": {
   "codemirror_mode": {
    "name": "ipython",
    "version": 3
   },
   "file_extension": ".py",
   "mimetype": "text/x-python",
   "name": "python",
   "nbconvert_exporter": "python",
   "pygments_lexer": "ipython3",
   "version": "3.12.4"
  }
 },
 "nbformat": 4,
 "nbformat_minor": 5
}
