{
 "cells": [
  {
   "cell_type": "code",
   "execution_count": null,
   "metadata": {},
   "outputs": [],
   "source": [
    "#Escribe una variable con cada uno de los tipos de datos en python\n",
    "#1.Los enteros son números sin decimales.\n",
    "entero=5\n",
    "#2.los flotante son numeros con desimales\n",
    "flotante=3.14\n",
    "#3.las cadenas son secuencias de caracteres\n",
    "texto= (\"hola mundo\")\n",
    "#4.los boleanos son valores que pueden ser true (verdadero) false(falso)\n",
    "booleano= True\n",
    "booleano=False\n",
    "#5.las liostas son colecciones ordenadas y mutables de elementos\n",
    "listas=1,2,3,4,5\n",
    "#6.las tuplas son colecciones no ordenadas y sin elementos duplicados\n",
    "tipo_tupla=(1,2,3,4)\n",
    "#7.las tuplas son colecciones ordenadas e inmuebles de elementos\n",
    "tipo_set_conjunto={1,2,3,4}\n",
    "#8.los diccionarios almacenan pares clave-valor\n",
    "diccionario={\"nombre:miguel angel, edad: 29\"}\n",
    "#9.none representa la ausensia de un valor nulo\n",
    "None"
   ]
  },
  {
   "cell_type": "code",
   "execution_count": 1,
   "metadata": {},
   "outputs": [
    {
     "name": "stdout",
     "output_type": "stream",
     "text": [
      "La suma es: 15\n"
     ]
    }
   ],
   "source": [
    "#Escribe una variable en python que contenga un numero, otra que incluya un numero en tipo texto y espues por medio de conversion sumalos y muestralos en pantalla (print)\n",
    "numero = 5\n",
    "numero_texto = 10\n",
    "suma = numero + int(numero_texto)\n",
    "print(\"La suma es:\", suma)"
   ]
  },
  {
   "cell_type": "code",
   "execution_count": 1,
   "metadata": {},
   "outputs": [
    {
     "name": "stdout",
     "output_type": "stream",
     "text": [
      "suma\n",
      "el resultado de la suma es:9\n",
      "resta\n",
      "el resultado de la resta es:1\n",
      "multiplicacion\n",
      "el resultado de la multiplicacion es:20\n",
      "exponente\n",
      "el resultado del exponente es:32\n",
      "divicion\n",
      "el resultado de la divicion es:2.0\n",
      "modulo\n",
      "el resultado del modulo es:6\n",
      "modulo\n",
      "el resultado del modulo es:6\n",
      "divicion entera\n",
      "el resultado de la divicion entera es:3\n"
     ]
    }
   ],
   "source": [
    "#Genera dos variables numericas y opera entre ellas con los diferentes operadores numericos, suma, resta, multiplicacion, division, producto\n",
    "print(\"suma\")\n",
    "numero_1 =5\n",
    "numero_2=4\n",
    "resultado =numero_1 + numero_2\n",
    "print(\"el resultado de la suma es:\"+str(resultado))\n",
    "\n",
    "print(\"resta\")\n",
    "numero_1 =5\n",
    "numero_2=4\n",
    "resultado =numero_1 - numero_2\n",
    "print(\"el resultado de la resta es:\"+str(resultado))\n",
    "\n",
    "print(\"multiplicacion\")\n",
    "numero_1 =5\n",
    "numero_2=4\n",
    "resultado =numero_1 * numero_2\n",
    "print(\"el resultado de la multiplicacion es:\"+str(resultado))\n",
    "\n",
    "print(\"exponente\")\n",
    "numero_1 =2\n",
    "exponente=5\n",
    "resultado =numero_1 ** exponente\n",
    "print(\"el resultado del exponente es:\"+str(resultado))\n",
    "\n",
    "print(\"divicion\")\n",
    "numero_1 =4\n",
    "numero_2=2\n",
    "resultado =numero_1 / numero_2\n",
    "print(\"el resultado de la divicion es:\"+str(resultado))\n",
    "\n",
    "print(\"modulo\")\n",
    "numero_1 =30\n",
    "numero_2=8\n",
    "resultado =numero_1 % numero_2\n",
    "print(\"el resultado del modulo es:\"+str(resultado))\n",
    "\n",
    "print(\"modulo\")\n",
    "numero_1 =30\n",
    "numero_2=8\n",
    "resultado =numero_1 % numero_2\n",
    "print(\"el resultado del modulo es:\"+str(resultado))\n",
    "\n",
    "\n",
    "print(\"divicion entera\")\n",
    "numero_1 =10\n",
    "numero_2=3\n",
    "resultado =numero_1 // numero_2\n",
    "print(\"el resultado de la divicion entera es:\"+str(resultado))\n",
    "\n",
    "\n",
    "\n",
    "\n"
   ]
  }
 ],
 "metadata": {
  "kernelspec": {
   "display_name": "Python 3",
   "language": "python",
   "name": "python3"
  },
  "language_info": {
   "codemirror_mode": {
    "name": "ipython",
    "version": 3
   },
   "file_extension": ".py",
   "mimetype": "text/x-python",
   "name": "python",
   "nbconvert_exporter": "python",
   "pygments_lexer": "ipython3",
   "version": "3.13.2"
  }
 },
 "nbformat": 4,
 "nbformat_minor": 2
}
