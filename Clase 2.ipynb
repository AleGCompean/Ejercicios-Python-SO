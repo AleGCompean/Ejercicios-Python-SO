{
 "cells": [
  {
   "cell_type": "code",
   "execution_count": 5,
   "id": "0edadb4a",
   "metadata": {},
   "outputs": [],
   "source": [
    "#Datos booleanos\n",
    "verdadero= True #1\n",
    "falso= False #0"
   ]
  },
  {
   "cell_type": "code",
   "execution_count": 3,
   "id": "f9022424",
   "metadata": {},
   "outputs": [],
   "source": [
    "variable= 4"
   ]
  },
  {
   "cell_type": "code",
   "execution_count": 6,
   "id": "81da4f57",
   "metadata": {},
   "outputs": [
    {
     "data": {
      "text/plain": [
       "False"
      ]
     },
     "execution_count": 6,
     "metadata": {},
     "output_type": "execute_result"
    }
   ],
   "source": [
    "#Comparadores\n",
    "#Comparador de igualdad \"==\"\n",
    "variable == 5   #Colocar el valor de \"variable\" contra numero 5"
   ]
  },
  {
   "cell_type": "code",
   "execution_count": 7,
   "id": "30167abf",
   "metadata": {},
   "outputs": [
    {
     "data": {
      "text/plain": [
       "False"
      ]
     },
     "execution_count": 7,
     "metadata": {},
     "output_type": "execute_result"
    }
   ],
   "source": [
    "#Utilizar una comparacion de un numero tipo text y uno tipo int\n",
    "\"5\" == 5"
   ]
  },
  {
   "cell_type": "code",
   "execution_count": 19,
   "id": "e432af22",
   "metadata": {},
   "outputs": [
    {
     "data": {
      "text/plain": [
       "True"
      ]
     },
     "execution_count": 19,
     "metadata": {},
     "output_type": "execute_result"
    }
   ],
   "source": [
    "#Comparador de desigualdad \"!=\"\n",
    "\"edGar\" != \"edgar\""
   ]
  },
  {
   "cell_type": "code",
   "execution_count": 30,
   "id": "6cdf9953",
   "metadata": {},
   "outputs": [
    {
     "data": {
      "text/plain": [
       "False"
      ]
     },
     "execution_count": 30,
     "metadata": {},
     "output_type": "execute_result"
    }
   ],
   "source": [
    "#Comparadores numericos\n",
    "#Comparador de mayor que\n",
    "6 > 6"
   ]
  },
  {
   "cell_type": "code",
   "execution_count": 27,
   "id": "0806cb31",
   "metadata": {},
   "outputs": [
    {
     "data": {
      "text/plain": [
       "True"
      ]
     },
     "execution_count": 27,
     "metadata": {},
     "output_type": "execute_result"
    }
   ],
   "source": [
    "#Comparador de mayor que o igual\n",
    "6 >= 6"
   ]
  },
  {
   "cell_type": "code",
   "execution_count": 33,
   "id": "57821421",
   "metadata": {},
   "outputs": [
    {
     "data": {
      "text/plain": [
       "False"
      ]
     },
     "execution_count": 33,
     "metadata": {},
     "output_type": "execute_result"
    }
   ],
   "source": [
    "#Comparador menor que\n",
    "6 < 6"
   ]
  },
  {
   "cell_type": "code",
   "execution_count": null,
   "id": "708a4f86",
   "metadata": {},
   "outputs": [
    {
     "data": {
      "text/plain": [
       "False"
      ]
     },
     "execution_count": 45,
     "metadata": {},
     "output_type": "execute_result"
    }
   ],
   "source": [
    "#Comparador de menor que o igual\n",
    "6 <= 6"
   ]
  }
 ],
 "metadata": {
  "kernelspec": {
   "display_name": "Python 3",
   "language": "python",
   "name": "python3"
  },
  "language_info": {
   "codemirror_mode": {
    "name": "ipython",
    "version": 3
   },
   "file_extension": ".py",
   "mimetype": "text/x-python",
   "name": "python",
   "nbconvert_exporter": "python",
   "pygments_lexer": "ipython3",
   "version": "3.12.4"
  }
 },
 "nbformat": 4,
 "nbformat_minor": 5
}
