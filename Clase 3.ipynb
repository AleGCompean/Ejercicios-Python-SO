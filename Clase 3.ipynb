{
 "cells": [
  {
   "cell_type": "code",
   "execution_count": null,
   "id": "ae6a4409",
   "metadata": {},
   "outputs": [],
   "source": [
    "#Guardar en una variable una condicion\n",
    "edad_persona= 19\n",
    "persona_mayor= 19 >= 18\n",
    "persona_mayor"
   ]
  },
  {
   "cell_type": "code",
   "execution_count": null,
   "id": "bccc6bbc",
   "metadata": {},
   "outputs": [],
   "source": [
    "#Operadores logicos,    and    ,  or   ,    not\n",
    "#and funciona mientras todas las condiciones sean true\n",
    "True and True"
   ]
  },
  {
   "cell_type": "code",
   "execution_count": null,
   "id": "9e91082f",
   "metadata": {},
   "outputs": [],
   "source": [
    "#or funciona mientras alguna de las condiciones sean true\n",
    "True or False"
   ]
  },
  {
   "cell_type": "code",
   "execution_count": null,
   "id": "dfcc66af",
   "metadata": {},
   "outputs": [],
   "source": [
    "#not funciona para generar un inverso de un resultado\n",
    "not True"
   ]
  },
  {
   "cell_type": "code",
   "execution_count": null,
   "id": "336968ab",
   "metadata": {},
   "outputs": [],
   "source": [
    "#Combinar un operador logico and con un operador not\n",
    "True and not False"
   ]
  },
  {
   "cell_type": "code",
   "execution_count": null,
   "id": "58de0d5a",
   "metadata": {},
   "outputs": [],
   "source": [
    "#Combinar un operador logico or y un operador not\n",
    "not False or False == True"
   ]
  },
  {
   "cell_type": "code",
   "execution_count": null,
   "id": "c17d21d2",
   "metadata": {},
   "outputs": [],
   "source": [
    "not False"
   ]
  },
  {
   "cell_type": "code",
   "execution_count": null,
   "id": "d5a9aa2f",
   "metadata": {},
   "outputs": [],
   "source": [
    "True or False"
   ]
  },
  {
   "cell_type": "code",
   "execution_count": null,
   "id": "e8c73fad",
   "metadata": {},
   "outputs": [],
   "source": [
    "#Caso 1\n",
    "edad_persona = 19\n",
    "tiene_permiso_mama= False\n",
    "nombre= \"Cesar\"\n",
    "\n",
    "#Vetados   #Ejemplo para revisar con bucles\n",
    "vetados= [{'nombre': \"Cesar\",'vetado': False},\n",
    "            {'nombre': \"Rogelio\", 'vetado': True}]"
   ]
  },
  {
   "cell_type": "code",
   "execution_count": null,
   "id": "b022c410",
   "metadata": {},
   "outputs": [],
   "source": [
    "#Queremos saber si una persona puede ingresar a tomar\n",
    "cumple_edad= edad_persona >= 18\n",
    "\n",
    "#Tiene permiso para tomar\n",
    "requiere_permisos= tiene_permiso_mama == True\n",
    "\n",
    "#Su nombre es \"Rogelio\"\n",
    "esta_vetado= not nombre == \"Rogelio\""
   ]
  },
  {
   "cell_type": "code",
   "execution_count": null,
   "id": "5542e90a",
   "metadata": {},
   "outputs": [],
   "source": [
    "cumple_edad and esta_vetado or requiere_permisos\n",
    "# True and "
   ]
  },
  {
   "cell_type": "code",
   "execution_count": null,
   "id": "f0e2ea4c",
   "metadata": {},
   "outputs": [],
   "source": [
    "#If true: ejecuta\n",
    "if True:\n",
    "    print(\"Ejecuta algo\")\n",
    "elif False:\n",
    "    print(\"Ejecuta esto otro\")\n",
    "else:\n",
    "    print(\"Pues ejecuta esto al final\")"
   ]
  }
 ],
 "metadata": {
  "language_info": {
   "name": "python"
  }
 },
 "nbformat": 4,
 "nbformat_minor": 5
}
