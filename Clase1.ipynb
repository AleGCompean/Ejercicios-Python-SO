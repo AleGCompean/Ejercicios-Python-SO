{
 "cells": [
  {
   "cell_type": "code",
   "execution_count": 8,
   "metadata": {},
   "outputs": [],
   "source": [
    "#Como asigno una variable\n",
    "#Camelcase\n",
    "poblacionDeMexico = 126.2\n",
    "#Snakecase\n",
    "poblacion_de_mexico = 126.2\n",
    "#Constantes\n",
    "PI = 3.1416"
   ]
  },
  {
   "cell_type": "code",
   "execution_count": null,
   "metadata": {},
   "outputs": [],
   "source": [
    "#Numerico #Integer\n",
    "entero= 10\n",
    "#Flotante o Decimal #Float\n",
    "flotente= 10.5\n",
    "#Char\n",
    "caracter= 'a'\n",
    "#Cadena o String\n",
    "cadena= 'Hola'\n",
    "#Booleano\n",
    "booleano= True\n",
    "booleano= False\n",
    "\n",
    "\n",
    "#Listas\n",
    "lista= [1,2,3,4,5,6,7,8,9,10,[11,12,13,14,15]] #Aqui hay una lista dentro de otra\n",
    "\n",
    "#Tuplas\n",
    "tupla= (1,2,3,4,5,6,7,8,9,10)\n",
    "\n",
    "#Conjuntos\n",
    "conjunto= {1, 2, 3, 4, 5, 6, 7, 8, 9, 10}\n",
    "\n",
    "#Diccionario #Clave-valor\n",
    "diccionario= {'nombre': 'Edgar',\n",
    "                'apellido': 'Antonio', \n",
    "                'edad': 20,\n",
    "                'cursos': ['Python', 'Java', 'C++', 'C#', 'JavaScript']}"
   ]
  }
 ],
 "metadata": {
  "kernelspec": {
   "display_name": "Python 3",
   "language": "python",
   "name": "python3"
  },
  "language_info": {
   "codemirror_mode": {
    "name": "ipython",
    "version": 3
   },
   "file_extension": ".py",
   "mimetype": "text/x-python",
   "name": "python",
   "nbconvert_exporter": "python",
   "pygments_lexer": "ipython3",
   "version": "3.12.4"
  }
 },
 "nbformat": 4,
 "nbformat_minor": 2
}
