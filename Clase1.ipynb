{
 "cells": [
  {
   "cell_type": "code",
   "execution_count": 1,
   "metadata": {},
   "outputs": [],
   "source": [
    "#Como asigno una variable\n",
    "#Camelcase\n",
    "poblacionDeMexico = 126.2\n",
    "#Snakecase\n",
    "poblacion_de_mexico = 126.2\n",
    "#Constantes\n",
    "PI = 3.1416"
   ]
  },
  {
   "cell_type": "code",
   "execution_count": 2,
   "metadata": {},
   "outputs": [],
   "source": [
    "#Numerico #Integer\n",
    "entero= 10\n",
    "#Flotante o Decimal #Float\n",
    "flotente= 10.5\n",
    "#Char\n",
    "caracter= 'a'\n",
    "#Cadena o String\n",
    "cadena= 'Hola'\n",
    "#Booleano\n",
    "booleano= True\n",
    "booleano= False\n",
    "\n",
    "\n",
    "#Listas\n",
    "lista= [1,2,3,4,5,6,7,8,9,10,[11,12,13,14,15]] #Aqui hay una lista dentro de otra\n",
    "\n",
    "#Tuplas\n",
    "tupla= (1,2,3,4,5,6,7,8,9,10)\n",
    "\n",
    "#Conjuntos\n",
    "conjunto= {1, 2, 3, 4, 5, 6, 7, 8, 9, 10}\n",
    "\n",
    "#Diccionario #Clave-valor\n",
    "diccionario= {'nombre': 'Edgar',\n",
    "                'apellido': 'Antonio', \n",
    "                'edad': 20,\n",
    "                'cursos': ['Python', 'Java', 'C++', 'C#', 'JavaScript']}"
   ]
  },
  {
   "cell_type": "code",
   "execution_count": 12,
   "metadata": {},
   "outputs": [
    {
     "name": "stdout",
     "output_type": "stream",
     "text": [
      "30\n"
     ]
    }
   ],
   "source": [
    "#crear una variable de tipo character pero con un valor numerico\n",
    "numero1= \"10\"\n",
    "numero2= 20\n",
    "\n",
    "#Imprimir por pantalla la suma de los dos valores realizando un casting sobre numero1 que es una variable de texto\n",
    "print(int(numero1)+numero2)"
   ]
  },
  {
   "cell_type": "code",
   "execution_count": 14,
   "metadata": {},
   "outputs": [
    {
     "name": "stdout",
     "output_type": "stream",
     "text": [
      "<class 'str'>\n",
      "<class 'int'>\n"
     ]
    }
   ],
   "source": [
    "print(type(numero1))\n",
    "#Convertir de manera definitiva el numero1 de texto a entero\n",
    "numero1= int(numero1)\n",
    "print(type(numero1))"
   ]
  },
  {
   "cell_type": "code",
   "execution_count": 11,
   "metadata": {},
   "outputs": [
    {
     "name": "stdout",
     "output_type": "stream",
     "text": [
      "30\n"
     ]
    }
   ],
   "source": [
    "#Imprimir por pantalla la suma de los dos valores\n",
    "print(numero1+numero2)"
   ]
  },
  {
   "cell_type": "code",
   "execution_count": 21,
   "metadata": {},
   "outputs": [
    {
     "name": "stdout",
     "output_type": "stream",
     "text": [
      "<class 'int'>\n",
      "La edad es 10\n"
     ]
    }
   ],
   "source": [
    "print(type(numero1))\n",
    "#Imprimir en pantalla la edad\n",
    "print(\"La edad es \" + str(numero1))"
   ]
  },
  {
   "cell_type": "code",
   "execution_count": 20,
   "metadata": {},
   "outputs": [
    {
     "data": {
      "text/plain": [
       "False"
      ]
     },
     "execution_count": 20,
     "metadata": {},
     "output_type": "execute_result"
    }
   ],
   "source": [
    "#Crear una variable que solo pueda ser 1 o 0\n",
    "numero3 = 0\n",
    "numero3= bool(numero3)\n",
    "numero3"
   ]
  },
  {
   "cell_type": "code",
   "execution_count": 46,
   "metadata": {},
   "outputs": [
    {
     "name": "stdout",
     "output_type": "stream",
     "text": [
      "manzana\n",
      "granada\n",
      "['plátano', 'cereza', 'guanabana']\n",
      "<class 'list'>\n"
     ]
    }
   ],
   "source": [
    "#Lista que contiene frutas\n",
    "frutas = [\"manzana\",\"plátano\",\"cereza\",\"guanabana\",\"pera\",\"sandia\",\"guayaba\",\"granada\"]\n",
    "\n",
    "#En las listas el primer numero de indexacion es 0\n",
    "print(frutas[0])  # Imprime \"manzana\"\n",
    "print(frutas[-1]) #Imprime el ultimo elemento de la lista\n",
    "print(frutas[1:4])\n",
    "print(type(frutas[1:4]))\n"
   ]
  },
  {
   "cell_type": "code",
   "execution_count": 40,
   "metadata": {},
   "outputs": [
    {
     "name": "stdout",
     "output_type": "stream",
     "text": [
      "g\n",
      "guana\n"
     ]
    }
   ],
   "source": [
    "#Variable de cadena de caracter\n",
    "cadena= \"guanabana dorada grande\"\n",
    "cadena_partida= ['g','u','a','n','a','b','a','n','a']\n",
    "print(cadena_partida[0])\n",
    "print(cadena[0:5])"
   ]
  },
  {
   "cell_type": "code",
   "execution_count": null,
   "metadata": {},
   "outputs": [
    {
     "name": "stdout",
     "output_type": "stream",
     "text": [
      "Antonio\n"
     ]
    }
   ],
   "source": [
    "#Diccionario #Clave-valor\n",
    "datos_edgar= {'nombre': 'Edgar',\n",
    "                'apellido': 'Antonio', \n",
    "                'edad': 20,\n",
    "                'cursos': \"Python\"}\n",
    "\n",
    "print(datos_edgar['apellido'])"
   ]
  }
 ],
 "metadata": {
  "kernelspec": {
   "display_name": "Python 3",
   "language": "python",
   "name": "python3"
  },
  "language_info": {
   "codemirror_mode": {
    "name": "ipython",
    "version": 3
   },
   "file_extension": ".py",
   "mimetype": "text/x-python",
   "name": "python",
   "nbconvert_exporter": "python",
   "pygments_lexer": "ipython3",
   "version": "3.12.4"
  }
 },
 "nbformat": 4,
 "nbformat_minor": 2
}
