{
 "cells": [
  {
   "cell_type": "markdown",
   "metadata": {},
   "source": [
    "### Crea una varible que contenga datos por cada uno de los tipos de estructura de datos lista, tupla, conjunto y diccionario"
   ]
  },
  {
   "cell_type": "code",
   "execution_count": 2,
   "metadata": {},
   "outputs": [
    {
     "name": "stdout",
     "output_type": "stream",
     "text": [
      "<class 'list'>\n",
      "<class 'tuple'>\n",
      "<class 'set'>\n",
      "<class 'dict'>\n"
     ]
    }
   ],
   "source": [
    "Lista_series = [\"Breaking Bad\", \"Holmes\", \"Hannibal\", \"Dr House\", \"Friends\", \"The Office\", \"Hannibal\", \"The Big Bang Theory\"]\n",
    "print(type(Lista_series))\n",
    "Tuplas_animes = (\"Hunter x Hunter\", \"Dragon Ball\", \"Naruto\", \"Ranma\", \"Chainsawman\")\n",
    "print(type(Tuplas_animes))\n",
    "Conjuntos = set(\"2, 4, 6, 8\")\n",
    "print(type(Conjuntos))\n",
    "Diccionario = {\"Película\": \"Deadpool\",\n",
    "               \"Anime\": \"Dororo\",\n",
    "               \"Serie\": \"Smallville\",\n",
    "               \"Temporadas\": 10}\n",
    "print(type(Diccionario))\n",
    "\n"
   ]
  },
  {
   "cell_type": "markdown",
   "metadata": {},
   "source": [
    "### Utilizando las estructuras anteriores muestra el primer y ultimo elemento de una lista por pantalla (utiliza print) del tipo de dato lista"
   ]
  },
  {
   "cell_type": "code",
   "execution_count": null,
   "metadata": {},
   "outputs": [
    {
     "name": "stdout",
     "output_type": "stream",
     "text": [
      "El primer elemento de mi lista es: Breaking Bad\n",
      "Y el último elemento de mi lista es: The Office\n",
      "Esta es tu ultima serie The Office pero yo agregue The Big Bang Theory y no me lo muestra\n"
     ]
    }
   ],
   "source": [
    "print(\"El primer elemento de mi lista es:\", Lista_series[0])\n",
    "print(\"Y el último elemento de mi lista es:\", Lista_series[5])\n",
    "\n",
    "# --EDGAR Muestra el ultimo elemento de la lista, existe un metodo para esto\n",
    "print(f\"Esta es tu ultima serie {Lista_series[5]} pero yo agregue The Big Bang Theory y no me lo muestra\")"
   ]
  },
  {
   "cell_type": "markdown",
   "metadata": {},
   "source": [
    "### Los diccionarios utilizan una relacion clave valor, del diccionario que creaste anteriormente muestra todos sus valores uno por uno utilizando print"
   ]
  },
  {
   "cell_type": "code",
   "execution_count": 11,
   "metadata": {},
   "outputs": [
    {
     "name": "stdout",
     "output_type": "stream",
     "text": [
      "La película seleccionada es: Deadpool\n",
      "La anime seleccionado es: Dororo\n",
      "La serie seleccionada es: Smallville\n",
      "Cuenta con: 10 temporadas.\n"
     ]
    }
   ],
   "source": [
    "print(\"La película seleccionada es:\", Diccionario[\"Película\"]) \n",
    "print(\"La anime seleccionado es:\", Diccionario[\"Anime\"])\n",
    "print(\"La serie seleccionada es:\", Diccionario[\"Serie\"])\n",
    "print(\"Cuenta con:\", Diccionario[\"Temporadas\"], \"temporadas.\")"
   ]
  },
  {
   "cell_type": "markdown",
   "metadata": {},
   "source": [
    "### Esta tarea requiere investigacion, en la lista que creaste anteriormente, utiliza un metodo (parecido a funcion) que añada a tu lista \"SpeakOn was here\"\n",
    "### Esto se hace con codigo python y no puedes agregar codigo a la lista que creaste arriba"
   ]
  },
  {
   "cell_type": "code",
   "execution_count": null,
   "metadata": {},
   "outputs": [
    {
     "name": "stdout",
     "output_type": "stream",
     "text": [
      "['Breaking Bad', 'Holmes', 'Hannibal', 'Dr House', 'Friends', 'The Office', 'SpeakOn was here.']\n"
     ]
    }
   ],
   "source": [
    "Lista_series.append(\"SpeakOn was here.\")\n",
    "print(Lista_series)\n",
    "\n",
    "# --EDGAR Recuerda que debes comentar todo tu codigo, ademas cualquier codigo ajeno a las practicas guardalo en una carpeta distinta, corrige lo solicitado y enviame nueva pull request"
   ]
  },
  {
   "cell_type": "code",
   "execution_count": null,
   "metadata": {},
   "outputs": [
    {
     "name": "stdout",
     "output_type": "stream",
     "text": [
      "['Breaking Bad', 'Holmes', 'Hannibal', 'Dr House', 'How i meet your mother', 'The Office', 'Hannibal']\n",
      "['Breaking Bad', 'Holmes', 'Hannibal', 'Dr House', 'How i meet your mother', 'The Office', 'Hannibal', 'Prision break.']\n",
      "2\n",
      "La serie 'Holmes' se encuentra en la posición: 1\n",
      "['Breaking Bad', 'Holmes', 'Dr House', 'How i meet your mother', 'The Office', 'Hannibal', 'Prision break.']\n"
     ]
    }
   ],
   "source": [
    "#LISTAS\n",
    "#INTERCAMBIAR ELEMENTOS DENTRO DE UNA LISTA\n",
    "#Sintaxys: nombre de la variable, seguido del número de elemento a intercambiar encerrado entre corchetes, se pone el signo igual ya que se lee como variable y se escribe el elemento por el cuál se debe intercambiar el elemento anterior.\n",
    "#Ejemplo: \n",
    "Lista_series [4] = \"How i meet your mother\"\n",
    "print(Lista_series)\n",
    "\n",
    "#AGREGAR ELEMENTOS A UNA LISTA\n",
    "#Sintaxys: Al nombre de la variable de la lista, se le añade '.append', seguido del elemento a agregar encerrado entre paréntesis.\n",
    "#Ejemplo\n",
    "Lista_series.append(\"Prision break.\")\n",
    "print(Lista_series)\n",
    "\n",
    "#CONTAR EL NÚMERO DE VECES QUE UN ELEMENTO SE REPITE DENTRO DE UNA LISTA\n",
    "#Sintaxys: Se ejecuta directamente la impresión en pantalla, con la variable de lista seguido del comando '.count' y el elemento a contabilizar entre paréntesis.\n",
    "#Ejemplo:\n",
    "print(Lista_series.count(\"Hannibal\"))\n",
    "\n",
    "#IMPRIMIR LA POSICIÓN DE LA PRIMER APARICIÓN DE UN ELEMENTO\n",
    "#Sintaxys: Se ejecuta igual que la instrucción anterior, solo que el comando cambia a '.index'.\n",
    "#Ejemplo:\n",
    "print(\"La serie 'Holmes' se encuentra en la posición:\", Lista_series.index(\"Holmes\"))\n",
    "\n",
    "#REMOVER LA PRIMER APARICIÓN DE UN ELEMENTO\n",
    "#Sitaxys: AL igual que las dos instrucciones anteriores, se ejecuta el comando '.remove'.\n",
    "#Ejemplo:\n",
    "Lista_series.remove(\"Hannibal\")\n",
    "print(Lista_series)\n",
    "#Al igual que los comandos de INTERCAMBIAR y AGREGAR ELEMENTOS primero tienes que escribir el código con el comando, para después mandar a imprimir en pantalla.\n"
   ]
  },
  {
   "cell_type": "code",
   "execution_count": null,
   "metadata": {},
   "outputs": [
    {
     "name": "stdout",
     "output_type": "stream",
     "text": [
      "{1, 2, 3, 4, 5, 6, 7, 8, 9}\n",
      "{'manzana', 'pera', 'guayaba', 'mango', 'manzana\\n'}\n",
      "{'a', 'o', 's', 'l', ' ', 'H', 'r', 'C'}\n",
      "['guayaba', 'mango', 'manzana', 'manzana\\n', 'pera']\n",
      "{2, 3, 4, 5, 6, 7, 12}\n",
      "{2, 3, 4, 5, 6, 7, 11, 12}\n",
      "{2, 3, 4, 5, 6, 11, 12}\n",
      "{2, 3, 4, 5, 6, 11, 12} {9, 10, 11, 12, 13, 14} {18, 19, 20, 21, 22, 23}\n",
      "False\n",
      "True\n",
      "{11, 12}\n",
      "{11, 12}\n",
      "{11, 12}\n",
      "{2, 3, 4, 5, 6, 9, 10, 11, 12, 13, 14}\n",
      "set()\n",
      "True\n",
      "False\n",
      "{2, 3, 4, 5, 6, 9, 10, 13, 14}\n"
     ]
    }
   ],
   "source": [
    "#PPRÁCTICAS CON CONJUNTOS SET \n",
    "#SET tiene la función de eliminar elementos repetidos dentro de una lista\n",
    "print(set([1, 2, 3, 4, 4, 5, 6, 6, 7, 8, 9, 9, 9]))\n",
    "\n",
    "#NO mantiene un orden en su ejecución.\n",
    "print(set((\"mango\", \"pera\", \"manzana\", \"mango\", \"guayaba\", \"manzana\" \"\\n\")))\n",
    "\n",
    "#El comando toma toda la cadena de texto como un conjunto de 'Chars'\n",
    "print(set(\"Hola Carlos\"))\n",
    "\n",
    "#Los elementos deben ser separados entre sí por una coma para que no lea todo el elemento como uno sólo.\n",
    "\n",
    "#Para mantener los elementos ordenados podemos utilizar una lista o utilizar el comando 'sorted'.\n",
    "print(sorted(set((\"mango\", \"pera\", \"manzana\", \"mango\", \"guayaba\", \"manzana\" \"\\n\"))))\n",
    "#Este comando ordena los elementos de acuerdo al alfabeto cuando se trata de 'Strings'.\n",
    "\n",
    "#Se puede convertir un conjunto en una variable y realizar operaciones con ella.\n",
    "conjunto = set([2, 3, 4, 4, 5, 6, 7, 7, 12])\n",
    "print(conjunto)\n",
    "\n",
    "#Podemos agregar elementos a un conjunto con 'add'.\n",
    "conjunto.add(11)\n",
    "print(conjunto)\n",
    "\n",
    "#Podemos remover elementos de un conjunto con 'remove'.\n",
    "conjunto.remove(7)\n",
    "print(conjunto)\n",
    "\n",
    "#Se puede realizar operaciones entre varios conjuntos.\n",
    "conjunto_2 = set([9, 10, 10, 11, 12, 13, 14, 14])\n",
    "conjunto_3 = set([18, 19, 19, 20, 21, 22, 22, 23])\n",
    "conjunto_4 = set([18, 19, 19, 20, 21, 22, 22, 23])\n",
    "print(conjunto, conjunto_2, conjunto_3)\n",
    "\n",
    "#Se puede comprobar si todos los elementos de un conjunto están incluídos en otro usando 'Issubset'.\n",
    "print(conjunto.issubset(conjunto_2))\n",
    "print(conjunto_3.issubset(conjunto_4))\n",
    "\n",
    "#Se puede realizar intersección con 'intersection', que ejecuta los elementos que se repiten en ambos conjuntos.\n",
    "print(conjunto.intersection(conjunto_2))\n",
    "#Para este comando, también se puede utilizar '&', arrojando el mismo resultado.\n",
    "print(conjunto & conjunto_2)\n",
    "\n",
    "\n",
    "#Algunos operadores a utilizar para trabajar con los conjuntos son los siguientes:\n",
    "\n",
    "# INTERSECCIÓN: A&B. Encuentra los elementos que se repiten en dos conjuntos.\n",
    "print(conjunto & conjunto_2)\n",
    "\n",
    "#UNIÓN: A|B. Une dos conjuntos.\n",
    "print(conjunto | conjunto_2)\n",
    "\n",
    "#DIFERENCIA: A-B. Encuentra elementos diferentes entre 2 conjuntos.\n",
    "print(conjunto_3 - conjunto_4)\n",
    "\n",
    "#SUPERCONJUNTO: A>=B. Verifica si un conjunto es superconjunto de otro. Un conjunto A es un superconjunto de B si todos los elementos de B están contenidos en A (es decir, B es un subconjunto de A).\n",
    "print(conjunto_3 >= conjunto_4)\n",
    "\n",
    "#SUBCONJUNTO: A<=B. verifica si un conjunto es subconjunto de otro. Un conjunto A es un subconjunto de B si todos los elementos de A están contenidos en B.\n",
    "print(conjunto <= conjunto_3)\n",
    "\n",
    "#DIFERENCIA SIMÉTRICA: A^B. Encuentra un conjunto que contiene los elementos que están solo en A o solo en B, pero no en ambos. Osea los que no se repiten.\n",
    "print(conjunto^conjunto_2)\n",
    "\n"
   ]
  },
  {
   "cell_type": "code",
   "execution_count": null,
   "metadata": {},
   "outputs": [
    {
     "name": "stdout",
     "output_type": "stream",
     "text": [
      "tres\n",
      "{1: 'uno', 2: 'dos', 3: 'tres', 4: 'cuatro', 5: 'cinco', 6: 'seis'}\n",
      "{1: 'uno', 2: 'dos', 3: 'tres', 4: 'cuatro', 5: 'cinco'}\n",
      "{'uno': 1, 'dos': 2, 'tres': 3, 'cuatro': 4, 'cinco': 5}\n",
      "{1: 'integer', 2.5: 'float', 'string': 'Hola', 'boolean': 'False', (1, 2, 3): 'tupla'}\n",
      "{1: 'tercero', 2: 'segundo'}\n",
      "{1: 'uno', 2: 'dos', 3: 'tres', 4: 'cuatro', 5: 'cinco', 6: 'seis'} dict_keys([1, 2, 3, 4, 5, 6]) dict_values(['uno', 'dos', 'tres', 'cuatro', 'cinco', 'seis']) dict_items([(1, 'uno'), (2, 'dos'), (3, 'tres'), (4, 'cuatro'), (5, 'cinco'), (6, 'seis')])\n",
      "dict_values(['uno', 'dos', 'tres', 'four', 'cinco', 'seis'])\n",
      "{1: 'uno', 2: 'dos', 3: 'tres', 4: 'four', 6: 'seis'}\n"
     ]
    }
   ],
   "source": [
    "#DICCIONARIOS\n",
    "#Ordenadas.\n",
    "#Heterogéneas.\n",
    "#Solo la 'clave' es inmutable.\n",
    "\n",
    "#Podemos ver el contenido de una clave con apertura de corchetes.\n",
    "diccionario = {1: \"uno\", 2: \"dos\", 3: \"tres\", 4: \"cuatro\", 5: \"cinco\"}\n",
    "print(diccionario[3])\n",
    "\n",
    "#Y se puede añadir otra clave al diccionario por medio de corchetes.\n",
    "diccionario[6] = \"seis\"\n",
    "print(diccionario)\n",
    "\n",
    "#Otra manera de crear diccionarios es por medio de la función 'dict'.\n",
    "función_dict = dict([(1, \"uno\"), (2, \"dos\"), (3, \"tres\"), (4, \"cuatro\"), (5, \"cinco\")])\n",
    "print(función_dict)\n",
    "\n",
    "#Cuando al revés, la clave es tipo 'String', se pueden escribir clave y valor directamente sin comillas.\n",
    "función_dict_strings = dict(uno=1, dos=2, tres=3, cuatro=4, cinco=5)\n",
    "print(función_dict_strings)\n",
    "\n",
    "#Se puede utilizar cualquier tipo de dato como valor, pero la clave debe ser inmutable.\n",
    "diccionario_datos = {1 : \"integer\", 2.5 : \"float\", \"string\": \"Hola\", \"boolean\": \"False\", (1,2,3): \"tupla\"}\n",
    "print(diccionario_datos)\n",
    "\n",
    "#La 'clave' no se puede repetir. En caso de que lo haga, tomará el valor de la última repetición dentro del diccionario.\n",
    "dicc_repetición = {1 : \"primero\", 2: \"segundo\", 1 : \"tercero\"}\n",
    "print(dicc_repetición)\n",
    "\n",
    "#Los diccionarios cuentan con varios métodos, por ejemplo:\n",
    "# '.keys' que devuelve una lista con las claves del diccionario.\n",
    "# '.values' que arroja una lista con los valores del diccionario.\n",
    "# '.item' que arroja una lista de las tuplas de los pares de datos 'clave-valor'.\n",
    "print(diccionario, diccionario.keys(), diccionario.values(), diccionario.items())\n",
    "\n",
    "#Si guardas un tipo de vista/método en una variable y modificas el diccionario, los cambios que se realicen en el diccionario, se reflejan en la variable. Por ejemplo:\n",
    "claves = diccionario.values()\n",
    "diccionario[4] = \"four\"\n",
    "print(claves)\n",
    "\n",
    "#Por último, para eliminar una clave dentro de un diccionario, y por tanto su valor, se utiliza '.pop'.\n",
    "diccionario.pop(5)\n",
    "print(diccionario)\n"
   ]
  },
  {
   "cell_type": "code",
   "execution_count": null,
   "metadata": {},
   "outputs": [
    {
     "name": "stdout",
     "output_type": "stream",
     "text": [
      "('Laptop', 5, True, 11.5)\n",
      "11.5\n",
      "1\n",
      "0\n"
     ]
    }
   ],
   "source": [
    "#TUPLAS\n",
    "#Heterogéneas, ordenadas, pero al contrario de las listas son inmutables, es decir, ya no se pueden modificar una vez creadas.\n",
    "\n",
    "tupla = (\"Laptop\", 5, True, 11.5)\n",
    "print(tupla)\n",
    "\n",
    "#Al igual que los diccionarios, se utilizan corchetes para extrar un elemento.\n",
    "print(tupla[3])\n",
    "\n",
    "#En estas solamente se puede trabajar el método '.count' que cuenta el número de veces que un elemento se repite dentro de una tupla.\n",
    "tupla_count = tupla.count(True)\n",
    "print(tupla_count)\n",
    "\n",
    "#Y el método '.index' para saber en qué número de posición se encuentra un elemento dentro de la tupla.count\n",
    "tupla_index = tupla.index(\"Laptop\")\n",
    "print(tupla_index)\n",
    "\n",
    "#Para que el programa pueda interpretar un par de elementos como una 'tupla', estos deben estar separados por 'comas'."
   ]
  },
  {
   "cell_type": "code",
   "execution_count": null,
   "metadata": {},
   "outputs": [],
   "source": []
  }
 ],
 "metadata": {
  "kernelspec": {
   "display_name": "Python 3",
   "language": "python",
   "name": "python3"
  },
  "language_info": {
   "codemirror_mode": {
    "name": "ipython",
    "version": 3
   },
   "file_extension": ".py",
   "mimetype": "text/x-python",
   "name": "python",
   "nbconvert_exporter": "python",
   "pygments_lexer": "ipython3",
   "version": "3.12.4"
  }
 },
 "nbformat": 4,
 "nbformat_minor": 2
}
